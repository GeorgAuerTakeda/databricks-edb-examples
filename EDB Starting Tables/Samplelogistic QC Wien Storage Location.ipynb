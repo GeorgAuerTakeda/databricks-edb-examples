{
 "cells": [
  {
   "cell_type": "code",
   "execution_count": 0,
   "metadata": {
    "application/vnd.databricks.v1+cell": {
     "cellMetadata": {
      "byteLimit": 2048000,
      "rowLimit": 10000
     },
     "inputWidgets": {},
     "nuid": "80f877f9-d0cf-46f9-a845-a5e0ab4e312b",
     "showTitle": false,
     "tableResultSettingsMap": {},
     "title": ""
    }
   },
   "outputs": [],
   "source": [
    "with\n",
    "f4108 as (\n",
    "  SELECT \n",
    "  trim(IOLOTN) as BATCH_ID,\n",
    "  CAST((IOUB04 / 10000) AS decimal(12, 1)) AS CompletedQuantity,\n",
    "  IOLDSC\n",
    "  FROM gms_us_lake.gmsgq_jde_proddta_F4108_ADT\n",
    ")\n",
    "select * from f4108\n",
    "where batch_id like 'F4A003'"
   ]
  },
  {
   "cell_type": "code",
   "execution_count": 0,
   "metadata": {
    "application/vnd.databricks.v1+cell": {
     "cellMetadata": {
      "byteLimit": 2048000,
      "rowLimit": 10000
     },
     "inputWidgets": {},
     "nuid": "cb7e2613-afef-45ca-8445-3c2375dcf9a9",
     "showTitle": false,
     "tableResultSettingsMap": {},
     "title": ""
    }
   },
   "outputs": [],
   "source": [
    "-- all quantity (UNRSTR_USAGE_QTY) of the batch_id needs to be in the high rack warehouse (HRL01), zero at other locations\n",
    "with\n",
    "inventory as (\n",
    "  select\n",
    "  inv.BATCH_ID,\n",
    "  inv.UNRSTR_USAGE_QTY,\n",
    "  inv.STORAGE_LOCATION_CD,\n",
    "  inv.CREATED_ON_DT,\n",
    "  split(inv.BATCH_ID, '/')[0] as BATCH_ID_PREFIX\n",
    "  from gms_us_hub.txn_inventory_erp_glbl inv\n",
    "  where STORAGE_LOCATION_CD like 'SL%'\n",
    "  and trim(plant_id) = 'VN8'\n",
    "  and inv.ACTIVE_FLAG = 'Y'\n",
    "  and inv.CREATED_ON_DT > '2021-01-01'\n",
    "  and inv.UNRSTR_USAGE_QTY != 0\n",
    "),\n",
    "\n",
    "f4108 as (\n",
    "  SELECT \n",
    "  trim(IOLOTN) as BATCH_ID\n",
    "  ,CAST((IOUB04 / 10000) AS decimal(38, 6)) AS CompletedQuantity\n",
    "  ,IOLDSC as Description\n",
    "  FROM gms_us_lake.gmsgq_jde_proddta_F4108_ADT\n",
    ")\n",
    "\n",
    "select * from inventory\n",
    "left join f4108\n",
    "on inventory.BATCH_ID_PREFIX = f4108.BATCH_ID"
   ]
  }
 ],
 "metadata": {
  "application/vnd.databricks.v1+notebook": {
   "computePreferences": null,
   "dashboards": [],
   "environmentMetadata": {
    "base_environment": "",
    "environment_version": "2"
   },
   "inputWidgetPreferences": null,
   "language": "sql",
   "notebookMetadata": {
    "pythonIndentUnit": 4
   },
   "notebookName": "Samplelogistic QC Wien Storage Location",
   "widgets": {}
  },
  "language_info": {
   "name": "sql"
  }
 },
 "nbformat": 4,
 "nbformat_minor": 0
}
