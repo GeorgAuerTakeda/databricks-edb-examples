{
 "cells": [
  {
   "cell_type": "code",
   "execution_count": 0,
   "metadata": {
    "application/vnd.databricks.v1+cell": {
     "cellMetadata": {
      "byteLimit": 2048000,
      "rowLimit": 10000
     },
     "inputWidgets": {},
     "nuid": "6746b6b3-7ee8-4ea7-a9ef-60e07d3c197d",
     "showTitle": false,
     "tableResultSettingsMap": {},
     "title": ""
    }
   },
   "outputs": [],
   "source": [
    "select distinct eml_prmry_wrk as email from usprd_corp.corp_us_mart.ref_worker_data_edb_glbl\n",
    "where tet_4 like 'QA Disposition'\n",
    "and actv_trm = 'A'\n",
    "and prmry_addr_city = 'Wien'\n",
    "\n",
    "union\n",
    "\n",
    "select distinct tet_4_mngr_email as email from usprd_corp.corp_us_mart.ref_worker_data_edb_glbl\n",
    "where tet_4 like 'QA Disposition'\n",
    "and actv_trm = 'A'\n",
    "and prmry_addr_city = 'Wien'"
   ]
  },
  {
   "cell_type": "code",
   "execution_count": 0,
   "metadata": {
    "application/vnd.databricks.v1+cell": {
     "cellMetadata": {
      "byteLimit": 2048000,
      "implicitDf": true,
      "rowLimit": 10000
     },
     "inputWidgets": {},
     "nuid": "584b12ff-189d-4ab3-b7e4-b70ea11799e8",
     "showTitle": false,
     "tableResultSettingsMap": {
      "0": {
       "dataGridStateBlob": null,
       "filterBlob": "{\"filterGroups\":[],\"syncTimestamp\":1741765105099}",
       "queryPlanFiltersBlob": null,
       "tableResultIndex": 0
      }
     },
     "title": ""
    }
   },
   "outputs": [],
   "source": [
    "%sql\n",
    "select eml_prmry_wrk, tet_4_mngr_email from usprd_corp.corp_us_mart.ref_worker_data_edb_glbl\n",
    "where tet_4 like 'QA Disposition'\n",
    "and actv_trm = 'A'\n",
    "and prmry_addr_city = 'Wien'\n",
    "\n",
    "\n",
    "-- where tet_3 like 'Quality Assurance, Vienna'\n",
    "-- and tet_2 like 'Plasma OpU Quality - Vienna'\n",
    "-- and tet_1 like 'Plasma OpU Quality'\n",
    "\n",
    "-- where worker like '%Krejci%'\n",
    "-- where mngment_lvl like 'Analyst II / Specialist II'\n",
    "-- and prmry_addr_city = 'Wien'\n",
    "-- and (locon = 'AUT - Wien - Industriestrasse 67' or locon = 'AUT - Wien - Lange Allee 24'  or locon = 'AUT - Wien - DC Tower' )\n",
    "\n",
    "\n",
    "-- where trim(ln_mngr_nm) like 'Krejci, Iris'\n",
    "-- where trim(sprvsry_org_id) like 'SUPORG- 32732'\n",
    "-- where trim(eml_prmry_wrk)='iris.krejci@takeda.com'\n",
    "-- and trim(tet_4_mngr_email)='iris.krejci@takeda.com'\n"
   ]
  }
 ],
 "metadata": {
  "application/vnd.databricks.v1+notebook": {
   "computePreferences": null,
   "dashboards": [],
   "environmentMetadata": {
    "base_environment": "",
    "environment_version": "2"
   },
   "inputWidgetPreferences": null,
   "language": "sql",
   "notebookMetadata": {
    "mostRecentlyExecutedCommandWithImplicitDF": {
     "commandId": -1,
     "dataframes": [
      "_sqldf"
     ]
    },
    "pythonIndentUnit": 4
   },
   "notebookName": "Workday - all Disposition E-Mails",
   "widgets": {}
  },
  "language_info": {
   "name": "sql"
  }
 },
 "nbformat": 4,
 "nbformat_minor": 0
}
